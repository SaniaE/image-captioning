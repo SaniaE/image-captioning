{
 "cells": [
  {
   "cell_type": "code",
   "execution_count": 1,
   "id": "58214ae6-d7b7-43c1-a666-daa1697c4335",
   "metadata": {},
   "outputs": [],
   "source": [
    "import os \n",
    "import json \n",
    "import torch\n",
    "import numpy as np \n",
    "from PIL import Image\n",
    "from evaluate import load\n",
    "import matplotlib.pyplot as plt\n",
    "from datasets import load_dataset \n",
    "from tqdm.notebook import tqdm\n",
    "from transformers import BlipProcessor, BlipForConditionalGeneration, AutoProcessor, AutoModelForCausalLM,  ViTImageProcessor, AutoTokenizer"
   ]
  },
  {
   "cell_type": "code",
   "execution_count": 74,
   "id": "5ccc927c-e83f-4863-b766-b82b627216f1",
   "metadata": {},
   "outputs": [],
   "source": [
    "model_configs = {\n",
    "    \"blip\": {\n",
    "        \"saved_checkpoint\": \"checkpoints/models/blip/\",\n",
    "        \"processor\": BlipProcessor, \n",
    "        \"pretrained_path\": \"Salesforce/blip-image-captioning-large\", \n",
    "        \"inference_model\": BlipForConditionalGeneration, \n",
    "        \"inference_configs\": {\n",
    "            \"temperature\": 0.8,\n",
    "            \"top_k\": 100, \n",
    "            \"do_sample\": True,\n",
    "            \"repetition_penalty\": 1.2\n",
    "        }\n",
    "    }, \n",
    "    \"git\": {\n",
    "        \"saved_checkpoint\": \"checkpoints/models/git/\",\n",
    "        \"processor\": AutoProcessor, \n",
    "        \"pretrained_path\": \"microsoft/git-base\", \n",
    "        \"inference_model\": AutoModelForCausalLM, \n",
    "        \"inference_configs\": {\n",
    "            \"temperature\": 0.8,\n",
    "            \"top_k\": 50, \n",
    "            \"do_sample\": True, \n",
    "            \"top_p\": 0.9, \n",
    "            \"repetition_penalty\": 1.2\n",
    "        }\n",
    "    },\n",
    "    \"vit\": {\n",
    "        \"saved_checkpoint\": \"checkpoints/models/vit/\",\n",
    "        \"processor\": [ViTImageProcessor, AutoTokenizer], \n",
    "        \"pretrained_path\": [\"nlpconnect/vit-gpt2-image-captioning\", \"microsoft/git-base\"], \n",
    "        \"inference_model\": AutoModelForCausalLM,\n",
    "        \"inference_configs\": {\n",
    "            \"temperature\": 0.8,\n",
    "            \"top_k\": 50, \n",
    "            \"do_sample\": True\n",
    "        }\n",
    "    }\n",
    "}"
   ]
  },
  {
   "cell_type": "code",
   "execution_count": 75,
   "id": "3abde2ab-9dfb-4048-b6ec-bfb63d141b7c",
   "metadata": {},
   "outputs": [],
   "source": [
    "DATA_PATHS = {\n",
    "    \"annotated_set_dir\": \"prompts/\",\n",
    "    \"inference_set_dir\": \"complete_image_set/inference/\"\n",
    "}"
   ]
  },
  {
   "cell_type": "code",
   "execution_count": 76,
   "id": "0fbc8ea7-cd2c-4857-afca-2719398ba774",
   "metadata": {},
   "outputs": [],
   "source": [
    "def load_models(model_configs):\n",
    "    models = {key: {} for key in model_configs.keys()}\n",
    "\n",
    "    for model_name in model_configs.keys(): \n",
    "        ckpt, processor, pretrained_path, inf_model, configs = model_configs[model_name].values()\n",
    "\n",
    "        models[model_name][\"model\"] = inf_model.from_pretrained(ckpt) \n",
    "        models[model_name][\"processor\"] = [\n",
    "            processor[0].from_pretrained(pretrained_path[0], kwargs=\"padding\"), \n",
    "            processor[1].from_pretrained(pretrained_path[1], kwargs=\"padding\")\n",
    "        ] if model_name == \"vit\" else processor.from_pretrained(pretrained_path, kwargs=\"padding\")\n",
    "        models[model_name][\"inference_configs\"] = configs \n",
    "        \n",
    "    return models"
   ]
  },
  {
   "cell_type": "code",
   "execution_count": 77,
   "id": "78f0dd55-57ee-49ff-b5c3-707f8f7a79b1",
   "metadata": {},
   "outputs": [],
   "source": [
    "models = load_models(model_configs)"
   ]
  },
  {
   "cell_type": "code",
   "execution_count": 78,
   "id": "6fbbe6cd-2e8d-4d8e-b402-3d848b16691a",
   "metadata": {},
   "outputs": [],
   "source": [
    "def load_model_comparison(file_name): \n",
    "    image_path = DATA_PATHS[\"inference_set_dir\"] + file_name\n",
    "    inference_dict = {} \n",
    "    image_processor = None \n",
    "    image = Image.open(image_path)\n",
    "    \n",
    "    for model_name in models.keys(): \n",
    "        model, processor, inference_configs = models[model_name].values()  \n",
    "        \n",
    "        if model_name == \"vit\": \n",
    "            image_processor, processor = processor\n",
    "            \n",
    "        pixel_values = image_processor(images=image, return_tensors=\"pt\").pixel_values if image_processor else processor(images=image, return_tensors=\"pt\").pixel_values\n",
    "        generated_ids = model.generate(pixel_values=pixel_values, max_length=200, num_return_sequences=5, **inference_configs)\n",
    "        \n",
    "        inference_dict[model_name] = processor.batch_decode(generated_ids, skip_special_tokens=True)\n",
    "\n",
    "    return inference_dict"
   ]
  },
  {
   "cell_type": "code",
   "execution_count": 79,
   "id": "433db6ed-69e9-4f1c-8251-b6de622474bc",
   "metadata": {},
   "outputs": [],
   "source": [
    "def print_inferences(file_name): \n",
    "    inference = load_model_comparison(file_name) \n",
    "    \n",
    "    for model_name, captions in inference.items(): \n",
    "        print(\"Model: \", model_name.capitalize())  \n",
    "    \n",
    "        for caption in captions: \n",
    "            print(caption) \n",
    "    \n",
    "        print()"
   ]
  },
  {
   "cell_type": "code",
   "execution_count": 80,
   "id": "7839416c-ae61-4881-a699-ee5fa77dfd71",
   "metadata": {},
   "outputs": [
    {
     "name": "stdout",
     "output_type": "stream",
     "text": [
      "Model:  Blip\n",
      "attractive 404 page design with white background, black accents and a circular shape\n",
      "design a simple white and grey color schemed 404 text - image graphic for a page content\n",
      "design a simple white and black color palette with an elegant navigation button, followed by another section that is centered on the page, logo, and shadow based navbar\n",
      "simple and elegant 404 page design with white background, black lettering & a circular illustration\n",
      "create a captivating about me page design with white and black typography\n",
      "\n",
      "Model:  Git\n",
      "design an about us page with vertically stacked layout\n",
      "design an elegant about me page with a white background and black font color, single section\n",
      "about us page design with centered content\n",
      "design a simple 404 page with an image split layout\n",
      "design a simple 404 page with minimal text\n",
      "\n",
      "Model:  Vit\n",
      "create an elegant landing page design for a clothing brand\n",
      "design a simple about me page with images of characters on it\n",
      "minimalistic design for a landing page ui design with a cartoon character illustration\n",
      "dark 404 page design with a minimalistic looking design\n",
      "404 page with white background, curved section, in a black font, with an image of a human figure, not to white text\n",
      "\n"
     ]
    }
   ],
   "source": [
    "print_inferences(\"404.png\") "
   ]
  },
  {
   "cell_type": "code",
   "execution_count": 81,
   "id": "1a327939-d722-4a75-b008-3da97e00cd15",
   "metadata": {},
   "outputs": [
    {
     "name": "stdout",
     "output_type": "stream",
     "text": [
      "Model:  Blip\n",
      "create an elegant landing page ui for a furniture brand with an even text - styled layout\n",
      "create a landing page design for an about us page with images of interior designs and text\n",
      "about me page with 3 sections, in a white and grey theme\n",
      "landing page design for an architecture application with a black and white theme\n",
      "create an elegant landing page design for a furniture brand with white and grey background, a play of striking images and fun graphics\n",
      "\n",
      "Model:  Git\n",
      "landing page design for educational application with card layout\n",
      "design a simple about me page with minimal text and vibrant white color scheme\n",
      "design a simple yet elegant about me page with an artistic look for your photography website\n",
      "design an about us page with a white background, blobs of images and color fills\n",
      "design a 404 page with centered text, placed on the right and left side\n",
      "\n",
      "Model:  Vit\n",
      "minimal section ui design with yellow color palette, blue background, white typography, and black geometric background, centered shapes, for a logo design\n",
      "about us page design for a ui game with minimal layout\n",
      "yellow and black color scheme with a high - end related section of a to the left with a white font, centered text, black and white shapes, blue background, and yellow accents\n",
      "yellow and black color scheme, with a white background, with a purple border, a logo, image and a purple font\n",
      "design a yellow section with a white background, a minimalist logo for an image based page for an animated story section with two sections\n",
      "\n"
     ]
    }
   ],
   "source": [
    "print_inferences(\"about_test.jpg\") "
   ]
  },
  {
   "cell_type": "code",
   "execution_count": 82,
   "id": "3d2e525b-51d2-46ba-b76f-dde56ab81f80",
   "metadata": {},
   "outputs": [
    {
     "name": "stdout",
     "output_type": "stream",
     "text": [
      "Model:  Blip\n",
      "medical application landing page design with 2 sections\n",
      "medical review page with 2 sections\n",
      "white and yellow color scheme, modern about me page layout with 2 sections that are vertically stacked and divided into images\n",
      "medical application landing page\n",
      "medical application landing page\n",
      "\n",
      "Model:  Git\n",
      "create an elegant landing page design for a furniture brand with dark blue and white section backgrounds, profile image\n",
      "design a simple about us page with white theme and dark color scheme\n",
      "landing page design for educational application with card layouts\n",
      "design an elegant about us page with minimal text\n",
      "design an about me page with a 404 section that takes up most of the page, dark themed with the image and the right column\n",
      "\n",
      "Model:  Vit\n",
      "about us page design with a colorful color palette\n",
      "design an a colorful 404 page with a colorful themed photo for a book with images of people in profile and a white background\n",
      "design a simple about me page design with soft colors and attractive illustrations\n",
      "about us page design with white background, green and white color palette, with a circular section shaped image, illustration of a nar\n",
      "design a cute about me page design with a few sections for a nab page layout\n",
      "\n"
     ]
    }
   ],
   "source": [
    "print_inferences(\"about_us_test.png\")"
   ]
  }
 ],
 "metadata": {
  "kernelspec": {
   "display_name": "image_captioning",
   "language": "python",
   "name": "image_captioning"
  },
  "language_info": {
   "codemirror_mode": {
    "name": "ipython",
    "version": 3
   },
   "file_extension": ".py",
   "mimetype": "text/x-python",
   "name": "python",
   "nbconvert_exporter": "python",
   "pygments_lexer": "ipython3",
   "version": "3.10.0"
  }
 },
 "nbformat": 4,
 "nbformat_minor": 5
}
