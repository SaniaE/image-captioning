{
 "cells": [
  {
   "cell_type": "raw",
   "id": "99b943c1-4a51-41cc-b636-9e0b0c8f9afd",
   "metadata": {
    "scrolled": true
   },
   "source": [
    "!pip install -U sentence-transformers"
   ]
  },
  {
   "cell_type": "code",
   "execution_count": 196,
   "id": "de6b8417-c05d-4fd7-af16-a12f876af378",
   "metadata": {},
   "outputs": [],
   "source": [
    "import os\n",
    "import psutil\n",
    "import numpy as np\n",
    "from time import time \n",
    "\n",
    "from sentence_transformers import SentenceTransformer\n",
    "from sklearn.metrics.pairwise import cosine_similarity"
   ]
  },
  {
   "cell_type": "markdown",
   "id": "c3ab99b7-531e-4935-99ba-f5a7f3abcfc1",
   "metadata": {},
   "source": [
    "#### SentenceTransformer"
   ]
  },
  {
   "cell_type": "code",
   "execution_count": 240,
   "id": "fe45a1de-a298-4d1e-a897-703415955126",
   "metadata": {},
   "outputs": [],
   "source": [
    "model = SentenceTransformer('all-MiniLM-L6-v2')\n",
    "\n",
    "def get_embeddings_st(prompt_samples):\n",
    "    return model.encode(prompt_samples, convert_to_numpy=True)\n",
    "\n",
    "def filter_similar_captions(prompt_samples, get_embeddings, threshold=0.85):\n",
    "    embeddings = get_embeddings(prompt_samples) \n",
    "    similarity_matrix = cosine_similarity(embeddings)\n",
    "    \n",
    "    seen = set()\n",
    "    result = [] \n",
    "    \n",
    "    for i, row in enumerate(similarity_matrix):\n",
    "        similar_indices = {j for j, sim in enumerate(row) if sim > threshold}\n",
    "        \n",
    "        if frozenset(similar_indices) not in seen:\n",
    "            seen.add(frozenset(similar_indices))\n",
    "            result.append(prompt_samples[i])\n",
    "            \n",
    "    return result"
   ]
  },
  {
   "cell_type": "code",
   "execution_count": 241,
   "id": "6cb0572f-7f8e-44b8-8f05-4f1a2591be72",
   "metadata": {},
   "outputs": [
    {
     "name": "stdout",
     "output_type": "stream",
     "text": [
      "Test Captions: \n",
      " ['the cat is sitting on the couch', 'there is a cat on the couch', 'the ginger cat is sitting on top of the purple couch', 'cat on couch', 'there is a cat on the couch ', 'There is a cat on the Couch', 'The apple is red', 'There is a cat that is sitting on the couch']\n",
      "\n",
      "Filtered Captions: \n",
      " ['the cat is sitting on the couch', 'there is a cat on the couch', 'the ginger cat is sitting on top of the purple couch', 'cat on couch', 'The apple is red']\n",
      "Number of captions filtered:  3\n",
      "\n",
      "\n",
      "Test Captions: \n",
      " ['Design a 404 page with an illustration themed around space', '404 page with space themed illustration', 'Space-themed 404 page design', 'Design a beautiful 404 page design, with black and white aesthetic, including an illustration based on space']\n",
      "\n",
      "Filtered Captions: \n",
      " ['Design a 404 page with an illustration themed around space', '404 page with space themed illustration', 'Design a beautiful 404 page design, with black and white aesthetic, including an illustration based on space']\n",
      "Number of captions filtered:  1\n",
      "\n",
      "\n",
      "Test Captions: \n",
      " ['404 page design with space theme', 'About us page', 'Landing page design with a fruit theme with images of apples, bananas, and other fruits', 'Space themed 404 page design', 'About us page design', 'Landing page design with serene theme with images of beautiful landscapes and buildings']\n",
      "\n",
      "Filtered Captions: \n",
      " ['404 page design with space theme', 'About us page', 'Landing page design with a fruit theme with images of apples, bananas, and other fruits', 'About us page design', 'Landing page design with serene theme with images of beautiful landscapes and buildings']\n",
      "Number of captions filtered:  1\n",
      "\n",
      "\n",
      "Test Captions: \n",
      " ['404 page design with astronauts and planets', 'Design a 404 page design with a space theme', 'Space themed 404 UI design with astronauts and planets', 'Create an attractive 404 page design with a space theme, including illustrations of astronauts and planets', 'Design space themed 404 page design']\n",
      "\n",
      "Filtered Captions: \n",
      " ['404 page design with astronauts and planets', 'Design a 404 page design with a space theme', 'Space themed 404 UI design with astronauts and planets']\n",
      "Number of captions filtered:  2\n",
      "\n",
      "\n"
     ]
    }
   ],
   "source": [
    "test_cases = [\n",
    "    [\n",
    "        \"the cat is sitting on the couch\",\n",
    "        \"there is a cat on the couch\", \n",
    "        \"the ginger cat is sitting on top of the purple couch\", \n",
    "        \"cat on couch\",\n",
    "        \"there is a cat on the couch \",\n",
    "        \"There is a cat on the Couch\", \n",
    "        \"The apple is red\", \n",
    "        \"There is a cat that is sitting on the couch\"\n",
    "    ],\n",
    "    [\n",
    "        \"Design a 404 page with an illustration themed around space\", \n",
    "        \"404 page with space themed illustration\", \n",
    "        \"Space-themed 404 page design\", \n",
    "        \"Design a beautiful 404 page design, with black and white aesthetic, including an illustration based on space\"\n",
    "    ],\n",
    "    [\n",
    "        \"404 page design with space theme\",\n",
    "        \"About us page\",\n",
    "        \"Landing page design with a fruit theme with images of apples, bananas, and other fruits\",\n",
    "        \"Space themed 404 page design\", \n",
    "        \"About us page design\", \n",
    "        \"Landing page design with serene theme with images of beautiful landscapes and buildings\" \n",
    "    ],\n",
    "    [\n",
    "        \"404 page design with astronauts and planets\",\n",
    "        \"Design a 404 page design with a space theme\", \n",
    "        \"Space themed 404 UI design with astronauts and planets\", \n",
    "        \"Create an attractive 404 page design with a space theme, including illustrations of astronauts and planets\",\n",
    "        \"Design space themed 404 page design\" \n",
    "    ]\n",
    "]\n",
    "\n",
    "for test in test_cases: \n",
    "    filtered_captions = filter_similar_captions(test, get_embeddings_st)\n",
    "    print(\"Test Captions: \\n\", test)\n",
    "    print()\n",
    "    print(\"Filtered Captions: \\n\", filtered_captions)\n",
    "    print(\"Number of captions filtered: \", len(test) - len(filtered_captions))\n",
    "    print() \n",
    "    print()\n"
   ]
  },
  {
   "cell_type": "markdown",
   "id": "eab420fe-c42a-4009-b1ce-a90eb21f2dbd",
   "metadata": {},
   "source": [
    "#### Test SentenceTransformer efficiency "
   ]
  },
  {
   "cell_type": "code",
   "execution_count": 37,
   "id": "e5a34a49-5561-447b-844d-3af8229e3025",
   "metadata": {},
   "outputs": [
    {
     "name": "stdout",
     "output_type": "stream",
     "text": [
      "Time taken to generate one embedding:  0.013347387313842773\n",
      "Time taken to generate 8 embeddings:  0.034555673599243164\n"
     ]
    }
   ],
   "source": [
    "# Testing time taken \n",
    "start = time() \n",
    "embedding = model.encode(sample_captions[0], convert_to_numpy=True)\n",
    "print(\"Time taken to generate one embedding: \", time() - start)\n",
    "\n",
    "start_batch = time() \n",
    "embeddings = model.encode(sample_captions, convert_to_numpy=True)\n",
    "print(f\"Time taken to generate {len(sample_captions)} embeddings: \", time() - start_batch)"
   ]
  },
  {
   "cell_type": "code",
   "execution_count": 40,
   "id": "9a611944-0950-4e6b-a843-3e38ef86810c",
   "metadata": {},
   "outputs": [
    {
     "name": "stdout",
     "output_type": "stream",
     "text": [
      "Memory used: 4096 bytes\n"
     ]
    }
   ],
   "source": [
    "# Testing memory consumed\n",
    "process = psutil.Process(os.getpid())\n",
    "\n",
    "mem_before = process.memory_info().rss\n",
    "get_embeddings(prompt_samples)\n",
    "\n",
    "print(f\"Memory used: {process.memory_info().rss - mem_before} bytes\")"
   ]
  },
  {
   "cell_type": "markdown",
   "id": "f43a3bd1-fd69-438e-ba97-0af2bb506183",
   "metadata": {},
   "source": [
    "#### Fine-tuned GPT2 embedder "
   ]
  },
  {
   "cell_type": "code",
   "execution_count": 237,
   "id": "3991cd44-e0f2-4948-b7e0-549e5de98a31",
   "metadata": {},
   "outputs": [],
   "source": [
    "import torch\n",
    "from transformers import GPT2Tokenizer, GPT2Model "
   ]
  },
  {
   "cell_type": "code",
   "execution_count": 244,
   "id": "44fbd22e-98ec-4345-9642-c953638494b5",
   "metadata": {},
   "outputs": [],
   "source": [
    "# Load model and tokenizer \n",
    "model = GPT2Model.from_pretrained(os.path.join(\"embedding\", \"model\"))\n",
    "tokenizer = GPT2Tokenizer.from_pretrained('gpt2')"
   ]
  },
  {
   "cell_type": "code",
   "execution_count": 245,
   "id": "1b69a07f-3dcf-413e-88b0-bd8afd87fc40",
   "metadata": {},
   "outputs": [],
   "source": [
    "def get_embeddings_gpt2(prompt_samples): \n",
    "    embeddings = []\n",
    "    for i in prompt_samples:\n",
    "        input_id = tokenizer.encode(i, return_tensors='pt')\n",
    "        \n",
    "        with torch.no_grad():\n",
    "            output = model(input_id, output_hidden_states=True)\n",
    "            hidden_states = output.hidden_states\n",
    "            last_hidden_state = hidden_states[-1]\n",
    "            embedding = last_hidden_state.mean(dim=1).squeeze()\n",
    "            embeddings.append(embedding)\n",
    "\n",
    "    return embeddings "
   ]
  },
  {
   "cell_type": "code",
   "execution_count": 248,
   "id": "4b69ae08-45ab-4b52-a7aa-85d85f4041ec",
   "metadata": {},
   "outputs": [
    {
     "name": "stdout",
     "output_type": "stream",
     "text": [
      "Test Captions: \n",
      " ['the cat is sitting on the couch', 'there is a cat on the couch', 'the ginger cat is sitting on top of the purple couch', 'cat on couch', 'there is a cat on the couch ', 'There is a cat on the Couch', 'The apple is red', 'There is a cat that is sitting on the couch']\n",
      "\n",
      "Filtered Captions: \n",
      " ['the cat is sitting on the couch', 'cat on couch', 'There is a cat that is sitting on the couch']\n",
      "Number of captions filtered:  5\n",
      "\n",
      "\n",
      "Test Captions: \n",
      " ['Design a 404 page with an illustration themed around space', '404 page with space themed illustration', 'Space-themed 404 page design', 'Design a beautiful 404 page design, with black and white aesthetic, including an illustration based on space']\n",
      "\n",
      "Filtered Captions: \n",
      " ['Design a 404 page with an illustration themed around space']\n",
      "Number of captions filtered:  3\n",
      "\n",
      "\n",
      "Test Captions: \n",
      " ['404 page design with space theme', 'About us page', 'Landing page design with a fruit theme with images of apples, bananas, and other fruits', 'Space themed 404 page design', 'About us page design', 'Landing page design with serene theme with images of beautiful landscapes and buildings']\n",
      "\n",
      "Filtered Captions: \n",
      " ['404 page design with space theme', 'About us page', 'Landing page design with a fruit theme with images of apples, bananas, and other fruits', 'About us page design']\n",
      "Number of captions filtered:  2\n",
      "\n",
      "\n",
      "Test Captions: \n",
      " ['404 page design with astronauts and planets', 'Design a 404 page design with a space theme', 'Space themed 404 UI design with astronauts and planets', 'Create an attractive 404 page design with a space theme, including illustrations of astronauts and planets', 'Design space themed 404 page design']\n",
      "\n",
      "Filtered Captions: \n",
      " ['404 page design with astronauts and planets']\n",
      "Number of captions filtered:  4\n",
      "\n",
      "\n"
     ]
    }
   ],
   "source": [
    "test_cases = [\n",
    "    [\n",
    "        \"the cat is sitting on the couch\",\n",
    "        \"there is a cat on the couch\", \n",
    "        \"the ginger cat is sitting on top of the purple couch\", \n",
    "        \"cat on couch\",\n",
    "        \"there is a cat on the couch \",\n",
    "        \"There is a cat on the Couch\", \n",
    "        \"The apple is red\", \n",
    "        \"There is a cat that is sitting on the couch\"\n",
    "    ],\n",
    "    [\n",
    "        \"Design a 404 page with an illustration themed around space\", \n",
    "        \"404 page with space themed illustration\", \n",
    "        \"Space-themed 404 page design\", \n",
    "        \"Design a beautiful 404 page design, with black and white aesthetic, including an illustration based on space\"\n",
    "    ],\n",
    "    [\n",
    "        \"404 page design with space theme\",\n",
    "        \"About us page\",\n",
    "        \"Landing page design with a fruit theme with images of apples, bananas, and other fruits\",\n",
    "        \"Space themed 404 page design\", \n",
    "        \"About us page design\", \n",
    "        \"Landing page design with serene theme with images of beautiful landscapes and buildings\" \n",
    "    ],\n",
    "    [\n",
    "        \"404 page design with astronauts and planets\",\n",
    "        \"Design a 404 page design with a space theme\", \n",
    "        \"Space themed 404 UI design with astronauts and planets\", \n",
    "        \"Create an attractive 404 page design with a space theme, including illustrations of astronauts and planets\",\n",
    "        \"Design space themed 404 page design\" \n",
    "    ]\n",
    "]\n",
    "\n",
    "for test in test_cases: \n",
    "    filtered_captions = filter_similar_captions(test, get_embeddings_gpt2, threshold=0.995)\n",
    "    print(\"Test Captions: \\n\", test)\n",
    "    print()\n",
    "    print(\"Filtered Captions: \\n\", filtered_captions)\n",
    "    print(\"Number of captions filtered: \", len(test) - len(filtered_captions))\n",
    "    print() \n",
    "    print()\n"
   ]
  },
  {
   "cell_type": "code",
   "execution_count": 256,
   "id": "4c57b1bd-bf41-4d30-874a-bb2c93429b1e",
   "metadata": {},
   "outputs": [
    {
     "name": "stdout",
     "output_type": "stream",
     "text": [
      "Test Captions: \n",
      " ['the cat is sitting on the couch', 'there is a cat on the couch', 'the ginger cat is sitting on top of the purple couch', 'cat on couch', 'there is a cat on the couch ', 'There is a cat on the Couch', 'The apple is red', 'There is a cat that is sitting on the couch']\n",
      "\n",
      "Filtered Captions: \n",
      " ['the cat is sitting on the couch', 'the ginger cat is sitting on top of the purple couch', 'cat on couch', 'There is a cat on the Couch', 'The apple is red', 'There is a cat that is sitting on the couch']\n",
      "Number of captions filtered:  2\n",
      "\n",
      "\n",
      "Test Captions: \n",
      " ['Design a 404 page with an illustration themed around space', '404 page with space themed illustration', 'Space-themed 404 page design', 'Design a beautiful 404 page design, with black and white aesthetic, including an illustration based on space']\n",
      "\n",
      "Filtered Captions: \n",
      " ['Design a 404 page with an illustration themed around space', '404 page with space themed illustration', 'Space-themed 404 page design', 'Design a beautiful 404 page design, with black and white aesthetic, including an illustration based on space']\n",
      "Number of captions filtered:  0\n",
      "\n",
      "\n",
      "Test Captions: \n",
      " ['404 page design with space theme', 'About us page', 'Landing page design with a fruit theme with images of apples, bananas, and other fruits', 'Space themed 404 page design', 'About us page design', 'Landing page design with serene theme with images of beautiful landscapes and buildings']\n",
      "\n",
      "Filtered Captions: \n",
      " ['404 page design with space theme', 'About us page', 'Landing page design with a fruit theme with images of apples, bananas, and other fruits', 'Space themed 404 page design', 'About us page design']\n",
      "Number of captions filtered:  1\n",
      "\n",
      "\n",
      "Test Captions: \n",
      " ['404 page design with astronauts and planets', 'Design a 404 page design with a space theme', 'Space themed 404 UI design with astronauts and planets', 'Create an attractive 404 page design with a space theme, including illustrations of astronauts and planets', 'Design space themed 404 page design']\n",
      "\n",
      "Filtered Captions: \n",
      " ['404 page design with astronauts and planets', 'Design a 404 page design with a space theme', 'Create an attractive 404 page design with a space theme, including illustrations of astronauts and planets', 'Design space themed 404 page design']\n",
      "Number of captions filtered:  1\n",
      "\n",
      "\n"
     ]
    }
   ],
   "source": [
    "import numpy as np\n",
    "from sklearn.metrics.pairwise import euclidean_distances\n",
    "\n",
    "def filter_similar_captions(captions, embeddings, distance_threshold=1.0):\n",
    "    embeddings_array = np.array([emb.numpy() for emb in embeddings])\n",
    "    \n",
    "    distances = euclidean_distances(embeddings_array)\n",
    "    \n",
    "    mask = np.ones_like(distances, dtype=bool)\n",
    "    np.fill_diagonal(mask, 0)  \n",
    "    similar_pairs = distances < distance_threshold\n",
    "    \n",
    "    unique_captions = []\n",
    "    used_indices = set()\n",
    "    \n",
    "    for i in range(len(captions)):\n",
    "        if i not in used_indices:\n",
    "            unique_captions.append(captions[i])\n",
    "            used_indices.update(np.where(similar_pairs[i])[0])\n",
    "    \n",
    "    return unique_captions\n",
    "\n",
    "for test in test_cases: \n",
    "    embeddings = get_embeddings_gpt2(test) \n",
    "    filtered_captions = filter_similar_captions(test, embeddings, distance_threshold=10.0)\n",
    "    print(\"Test Captions: \\n\", test)\n",
    "    print()\n",
    "    print(\"Filtered Captions: \\n\", filtered_captions)\n",
    "    print(\"Number of captions filtered: \", len(test) - len(filtered_captions))\n",
    "    print() \n",
    "    print()"
   ]
  },
  {
   "cell_type": "markdown",
   "id": "f66e3f2c-b9f1-4f43-8328-dec7428c9343",
   "metadata": {},
   "source": [
    "#### Test Fine-tuned GPT2 efficiency"
   ]
  },
  {
   "cell_type": "code",
   "execution_count": 257,
   "id": "0d20f053-b191-4083-bc08-34ea3d3bd790",
   "metadata": {},
   "outputs": [],
   "source": [
    "sample_captions = [\n",
    "    \"the cat is sitting on the couch\",\n",
    "    \"there is a cat on the couch\", \n",
    "    \"the ginger cat is sitting on top of the purple couch\", \n",
    "    \"cat on couch\",\n",
    "    \"there is a cat on the couch \",\n",
    "    \"There is a cat on the Couch\", \n",
    "    \"The apple is red\", \n",
    "    \"There is a cat that is sitting on the couch\"\n",
    "]"
   ]
  },
  {
   "cell_type": "code",
   "execution_count": 258,
   "id": "a743a5a7-76b9-4755-9832-bd262ff3080f",
   "metadata": {},
   "outputs": [
    {
     "name": "stdout",
     "output_type": "stream",
     "text": [
      "Time taken to generate one embedding:  0.935096025466919\n",
      "Time taken to generate 8 embeddings:  0.3150668144226074\n"
     ]
    }
   ],
   "source": [
    "# Testing time taken \n",
    "start = time() \n",
    "embedding = get_embeddings_gpt2(sample_captions[0])\n",
    "print(\"Time taken to generate one embedding: \", time() - start)\n",
    "\n",
    "start_batch = time() \n",
    "embeddings = get_embeddings_gpt2(sample_captions)\n",
    "print(f\"Time taken to generate {len(sample_captions)} embeddings: \", time() - start_batch)"
   ]
  },
  {
   "cell_type": "code",
   "execution_count": 259,
   "id": "f3d510d9-017f-474e-b4fe-bf3a3d0366e0",
   "metadata": {},
   "outputs": [
    {
     "name": "stdout",
     "output_type": "stream",
     "text": [
      "Memory used: 1470464 bytes\n"
     ]
    }
   ],
   "source": [
    "# Testing memory consumed\n",
    "process = psutil.Process(os.getpid())\n",
    "\n",
    "mem_before = process.memory_info().rss\n",
    "embeddings = get_embeddings_gpt2(prompt_samples)\n",
    "\n",
    "print(f\"Memory used: {process.memory_info().rss - mem_before} bytes\")"
   ]
  },
  {
   "cell_type": "code",
   "execution_count": null,
   "id": "ecc0aa5f-200d-41fb-91c9-e180106294ca",
   "metadata": {},
   "outputs": [],
   "source": []
  }
 ],
 "metadata": {
  "kernelspec": {
   "display_name": "image_captioning",
   "language": "python",
   "name": "image_captioning"
  },
  "language_info": {
   "codemirror_mode": {
    "name": "ipython",
    "version": 3
   },
   "file_extension": ".py",
   "mimetype": "text/x-python",
   "name": "python",
   "nbconvert_exporter": "python",
   "pygments_lexer": "ipython3",
   "version": "3.10.0"
  }
 },
 "nbformat": 4,
 "nbformat_minor": 5
}
