{
 "cells": [
  {
   "cell_type": "raw",
   "id": "99b943c1-4a51-41cc-b636-9e0b0c8f9afd",
   "metadata": {
    "scrolled": true
   },
   "source": [
    "!pip install -U sentence-transformers"
   ]
  },
  {
   "cell_type": "code",
   "execution_count": 41,
   "id": "de6b8417-c05d-4fd7-af16-a12f876af378",
   "metadata": {},
   "outputs": [],
   "source": [
    "import os\n",
    "import psutil\n",
    "import numpy as np\n",
    "from time import time \n",
    "\n",
    "from sentence_transformers import SentenceTransformer\n",
    "from sklearn.metrics.pairwise import cosine_similarity"
   ]
  },
  {
   "cell_type": "code",
   "execution_count": 19,
   "id": "fe45a1de-a298-4d1e-a897-703415955126",
   "metadata": {},
   "outputs": [],
   "source": [
    "model = SentenceTransformer('all-MiniLM-L6-v2')\n",
    "\n",
    "def filter_similar_captions(prompt_samples, threshold=0.85):\n",
    "    embeddings = model.encode(prompt_samples, convert_to_numpy=True)\n",
    "    similarity_matrix = cosine_similarity(embeddings)\n",
    "    \n",
    "    seen = set()\n",
    "    result = [] \n",
    "    \n",
    "    for i, row in enumerate(similarity_matrix):\n",
    "        similar_indices = {j for j, sim in enumerate(row) if sim > threshold}\n",
    "        \n",
    "        if frozenset(similar_indices) not in seen:\n",
    "            seen.add(frozenset(similar_indices))\n",
    "            result.append(prompt_samples[i])\n",
    "            \n",
    "    return result"
   ]
  },
  {
   "cell_type": "code",
   "execution_count": 30,
   "id": "6cb0572f-7f8e-44b8-8f05-4f1a2591be72",
   "metadata": {},
   "outputs": [
    {
     "name": "stdout",
     "output_type": "stream",
     "text": [
      "Filtered Captions: ['the cat is sitting on the couch', 'there is a cat on the couch', 'the ginger cat is sitting on top of the purple couch', 'cat on couch', 'The apple is red']\n",
      "Filtered Captions: ['Design a 404 page with an illustration themed around space', '404 page with space themed illustration', 'Design a beautiful 404 page design, with black and white aesthetic, including an illustration based on space']\n"
     ]
    }
   ],
   "source": [
    "sample_captions = [\n",
    "    \"the cat is sitting on the couch\",\n",
    "    \"there is a cat on the couch\", \n",
    "    \"the ginger cat is sitting on top of the purple couch\", \n",
    "    \"cat on couch\",\n",
    "    \"there is a cat on the couch \",\n",
    "    \"There is a cat on the Couch\", \n",
    "    \"The apple is red\", \n",
    "    \"There is a cat that is sitting on the couch\"\n",
    "] \n",
    "\n",
    "sample_captions_2 = [\n",
    "    \"Design a 404 page with an illustration themed around space\", \n",
    "    \"404 page with space themed illustration\", \n",
    "    \"Space-themed 404 page design\", \n",
    "    \"Design a beautiful 404 page design, with black and white aesthetic, including an illustration based on space\"\n",
    "] \n",
    "\n",
    "filtered_captions = filter_similar_captions(sample_captions, threshold=0.85)\n",
    "print(\"Filtered Captions:\", filtered_captions)\n",
    "\n",
    "filtered_captions_2 = filter_similar_captions(sample_captions_2, threshold=0.85)\n",
    "print(\"Filtered Captions:\", filtered_captions_2)"
   ]
  },
  {
   "cell_type": "markdown",
   "id": "eab420fe-c42a-4009-b1ce-a90eb21f2dbd",
   "metadata": {},
   "source": [
    "#### Test SentenceTransformer efficiency "
   ]
  },
  {
   "cell_type": "code",
   "execution_count": 37,
   "id": "e5a34a49-5561-447b-844d-3af8229e3025",
   "metadata": {},
   "outputs": [
    {
     "name": "stdout",
     "output_type": "stream",
     "text": [
      "Time taken to generate one embedding:  0.013347387313842773\n",
      "Time taken to generate 8 embeddings:  0.034555673599243164\n"
     ]
    }
   ],
   "source": [
    "# Testing time taken \n",
    "start = time() \n",
    "embedding = model.encode(sample_captions[0], convert_to_numpy=True)\n",
    "print(\"Time taken to generate one embedding: \", time() - start)\n",
    "\n",
    "start_batch = time() \n",
    "embeddings = model.encode(sample_captions, convert_to_numpy=True)\n",
    "print(f\"Time taken to generate {len(sample_captions)} embeddings: \", time() - start_batch)"
   ]
  },
  {
   "cell_type": "code",
   "execution_count": 40,
   "id": "9a611944-0950-4e6b-a843-3e38ef86810c",
   "metadata": {},
   "outputs": [
    {
     "name": "stdout",
     "output_type": "stream",
     "text": [
      "Memory used: 4096 bytes\n"
     ]
    }
   ],
   "source": [
    "# Testing memory consumed\n",
    "def get_embeddings():\n",
    "    return model.encode(sample_captions, convert_to_numpy=True)\n",
    "\n",
    "process = psutil.Process(os.getpid())\n",
    "\n",
    "mem_before = process.memory_info().rss\n",
    "get_embeddings()\n",
    "\n",
    "print(f\"Memory used: {process.memory_info().rss - mem_before} bytes\")"
   ]
  }
 ],
 "metadata": {
  "kernelspec": {
   "display_name": "image_captioning",
   "language": "python",
   "name": "image_captioning"
  },
  "language_info": {
   "codemirror_mode": {
    "name": "ipython",
    "version": 3
   },
   "file_extension": ".py",
   "mimetype": "text/x-python",
   "name": "python",
   "nbconvert_exporter": "python",
   "pygments_lexer": "ipython3",
   "version": "3.10.0"
  }
 },
 "nbformat": 4,
 "nbformat_minor": 5
}
