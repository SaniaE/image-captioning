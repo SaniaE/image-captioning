{
 "cells": [
  {
   "cell_type": "code",
   "execution_count": 1,
   "id": "58214ae6-d7b7-43c1-a666-daa1697c4335",
   "metadata": {},
   "outputs": [],
   "source": [
    "import os \n",
    "import json \n",
    "import torch\n",
    "import numpy as np \n",
    "from PIL import Image\n",
    "from evaluate import load\n",
    "import matplotlib.pyplot as plt\n",
    "from datasets import load_dataset \n",
    "from tqdm.notebook import tqdm\n",
    "from transformers import BlipProcessor, BlipForConditionalGeneration, AutoProcessor, AutoModelForCausalLM,  ViTImageProcessor, AutoTokenizer"
   ]
  },
  {
   "cell_type": "code",
   "execution_count": 2,
   "id": "5ccc927c-e83f-4863-b766-b82b627216f1",
   "metadata": {},
   "outputs": [],
   "source": [
    "model_configs = {\n",
    "    \"blip\": {\n",
    "        \"saved_checkpoint\": \"checkpoints/models/blip/\",\n",
    "        \"processor\": BlipProcessor, \n",
    "        \"pretrained_path\": \"Salesforce/blip-image-captioning-large\", \n",
    "        \"inference_model\": BlipForConditionalGeneration\n",
    "    }, \n",
    "    \"git\": {\n",
    "        \"saved_checkpoint\": \"checkpoints/models/git/\",\n",
    "        \"processor\": AutoProcessor, \n",
    "        \"pretrained_path\": \"microsoft/git-base\", \n",
    "        \"inference_model\": AutoModelForCausalLM\n",
    "    },\n",
    "    \"vit\": {\n",
    "        \"saved_checkpoint\": \"checkpoints/models/vit/\",\n",
    "        \"processor\": [ViTImageProcessor, AutoTokenizer], \n",
    "        \"pretrained_path\": [\"nlpconnect/vit-gpt2-image-captioning\", \"microsoft/git-base\"], \n",
    "        \"inference_model\": AutoModelForCausalLM\n",
    "    }\n",
    "}"
   ]
  },
  {
   "cell_type": "code",
   "execution_count": 3,
   "id": "3abde2ab-9dfb-4048-b6ec-bfb63d141b7c",
   "metadata": {},
   "outputs": [],
   "source": [
    "DATA_PATHS = {\n",
    "    \"annotated_set_dir\": \"prompts/\",\n",
    "    \"inference_set_dir\": \"complete_image_set/inference/\"\n",
    "}"
   ]
  },
  {
   "cell_type": "code",
   "execution_count": 4,
   "id": "0fbc8ea7-cd2c-4857-afca-2719398ba774",
   "metadata": {},
   "outputs": [],
   "source": [
    "def load_models(model_configs):\n",
    "    models = {key: {} for key in model_configs.keys()}\n",
    "\n",
    "    for model_name in model_configs.keys(): \n",
    "        ckpt, processor, pretrained_path, inf_model = model_configs[model_name].values()\n",
    "\n",
    "        models[model_name][\"model\"] = inf_model.from_pretrained(ckpt) \n",
    "        models[model_name][\"processor\"] = [\n",
    "            processor[0].from_pretrained(pretrained_path[0], kwargs=\"padding\"), \n",
    "            processor[1].from_pretrained(pretrained_path[1], kwargs=\"padding\")\n",
    "        ] if model_name == \"vit\" else processor.from_pretrained(pretrained_path, kwargs=\"padding\")\n",
    "        \n",
    "    return models"
   ]
  },
  {
   "cell_type": "code",
   "execution_count": 5,
   "id": "78f0dd55-57ee-49ff-b5c3-707f8f7a79b1",
   "metadata": {},
   "outputs": [],
   "source": [
    "models = load_models(model_configs)"
   ]
  },
  {
   "cell_type": "code",
   "execution_count": 6,
   "id": "6fbbe6cd-2e8d-4d8e-b402-3d848b16691a",
   "metadata": {},
   "outputs": [],
   "source": [
    "# Base configs \n",
    "def load_model_comparison(file_name): \n",
    "    image_path = DATA_PATHS[\"inference_set_dir\"] + file_name\n",
    "    inference_dict = {} \n",
    "    image_processor = None \n",
    "    \n",
    "    for model_name in models.keys(): \n",
    "        model, processor = models[model_name].values()\n",
    "        image = Image.open(image_path)\n",
    "        \n",
    "        if model_name == \"vit\": \n",
    "            image_processor, processor = processor\n",
    "            \n",
    "        pixel_values = image_processor(images=image, return_tensors=\"pt\").pixel_values if image_processor else processor(images=image, return_tensors=\"pt\").pixel_values\n",
    "        generated_ids = model.generate(pixel_values=pixel_values, max_length=200, num_return_sequences=5, top_k=100, do_sample=True, temperature=0.8)\n",
    "        \n",
    "        inference_dict[model_name] = processor.batch_decode(generated_ids, skip_special_tokens=True)\n",
    "\n",
    "    return inference_dict"
   ]
  },
  {
   "cell_type": "code",
   "execution_count": 7,
   "id": "433db6ed-69e9-4f1c-8251-b6de622474bc",
   "metadata": {},
   "outputs": [],
   "source": [
    "def print_inferences(file_name): \n",
    "    inference = load_model_comparison(file_name) \n",
    "    \n",
    "    for model_name, captions in inference.items(): \n",
    "        print(\"Model: \", model_name.capitalize()) \n",
    "    \n",
    "        for caption in captions: \n",
    "            print(caption) \n",
    "    \n",
    "        print()"
   ]
  },
  {
   "cell_type": "code",
   "execution_count": 8,
   "id": "f28d9561-45d2-4234-8605-9e85d190f34e",
   "metadata": {},
   "outputs": [
    {
     "name": "stdout",
     "output_type": "stream",
     "text": [
      "Model:  Blip\n",
      "simple text based 404 page design with a white background, centered text and a white section title\n",
      "a 404 page design with an elegant white and grey color scheme, centered navbar and a large screen graphic\n",
      "page not found ui design with a white background, black typography, and a circle shaped illustration\n",
      "create a simple about me page design with an eco themed twist with a black typography and a white background, centered with a clock and a circular logo, add a minimal section content that gives off, and links links up the content\n",
      "simple white text based 404 page design with a white background and a centered title\n",
      "\n",
      "Model:  Git\n",
      "design a simple yet elegant about us page design with a natural background, geometric font that has a prominent content in dark\n",
      "create an elegant landing page design for a furniture brand with ample space and centered background for content and simple text\n",
      "design an elegant about me page design with minimal text and unique image\n",
      "geometric text based landing page design for a web design brand with rectangular background shape\n",
      "simple text based 404 page design\n",
      "\n",
      "Model:  Vit\n",
      "404 page design with a black cow and white background, with a white background for images and text, a 404 section with an off page layout\n",
      "design a landing page for a me page brand with a single column that has an image of an into 2 section layout for a page design\n",
      "design a web page with a casual, minimalistic layout with a dinosaur illustration, animated figure and text layout\n",
      "404 page design with a black background, a white image, a simple image of centered content, with a white background, a star - shaped button, and a white outline of a digital image - image with text layout\n",
      "design a female 404 page design with a white background, a dark image and a black text image, with an image of an animated na stacked up page with a typography based typo\n",
      "\n"
     ]
    }
   ],
   "source": [
    "print_inferences(\"404.png\") "
   ]
  },
  {
   "cell_type": "code",
   "execution_count": 9,
   "id": "0b98be05-fb39-47f7-8d3b-81d1f0d95839",
   "metadata": {},
   "outputs": [
    {
     "name": "stdout",
     "output_type": "stream",
     "text": [
      "Model:  Blip\n",
      "medical application landing page design with 3 sections\n",
      "about us page with white and blue color scheme, 2 sections, images and text\n",
      "create an elegant about us page design with a chic look and white background, rectangular sections, and a soft blue - white background\n",
      "simple about us page design with white and blue scheme and yellow accents\n",
      "medical application landing page design with an elegant look and white background\n",
      "\n",
      "Model:  Git\n",
      "design a simple about me page with a minimalistic and elegant look\n",
      "simple about us page design with curved background and curved background, with a single section split into 2 sections, with a horizontal card layout\n",
      "design a beautiful about me page with a white background, and red color scheme\n",
      "design an elegant about me page with a multicolored grid, with a minimalistic, circular shape, and section arranged overlaid and another section with a white background\n",
      "design a simple about me page with red and black color scheme\n",
      "\n",
      "Model:  Vit\n",
      "about us page design with a colorful interior design with cute illustrations of people in shades of white, yellow and blue for a landing page\n",
      "design a colorful section of theme with a content background, to create an animated landing page design for a brand about me page design with a white and black color palette\n",
      "design an attractive, about us page design with a green color palette, white background and white text and a photo of the images of the ui display\n",
      "design a colorful ui for a website with an image and a bar\n",
      "a simple about us page design\n",
      "\n"
     ]
    }
   ],
   "source": [
    "print_inferences(\"about_us_test.png\")"
   ]
  },
  {
   "cell_type": "code",
   "execution_count": 11,
   "id": "0c1854b6-9568-4476-82be-0897135b0fda",
   "metadata": {},
   "outputs": [
    {
     "name": "stdout",
     "output_type": "stream",
     "text": [
      "Model:  Blip\n",
      "create a landing page design with an even text - text - styled layout that has 3 sections\n",
      "create an elegant landing page design for an application console for a pc application with a grey and white theme and a black and white action button\n",
      "design an about us page with a white and grey theme and black and white section titles\n",
      "create an elegant landing page design for an interior design brand with a grey and white theme, alternating images of interior designs with yellow accents\n",
      "create an even text - only landing page design with a 2 - column layout, black and white theme, and a pop of color\n",
      "\n",
      "Model:  Git\n",
      "about us page design with horizontal stacked layout\n",
      "create an elegant landing page design for a furniture brand with a white background, and black font color, with a single image column being an animated image in a horizontal composition\n",
      "design a simple about me page with horizontal sections with a red, white and black color scheme\n",
      "trendy about me page design for a fashion brand with a simple yet elegant look\n",
      "design a simple about me page with a white background, single section, and a vertically stacked navbar menu\n",
      "\n",
      "Model:  Vit\n",
      "cool concept landing page with yellow and white color scheme\n",
      "yellow themed landing page design\n",
      "404 page design with yellow colour palette, black and white color scheme, and a white background\n",
      "404 page design with cartoon illustration of a narra plant\n",
      "landing page design for an about us page with yellow color scheme, white highlights and minimal layout\n",
      "\n"
     ]
    }
   ],
   "source": [
    "print_inferences(\"about_test.jpg\") "
   ]
  },
  {
   "cell_type": "code",
   "execution_count": null,
   "id": "ca00af0d-cbcd-4203-8ef5-3cba90a2cb5f",
   "metadata": {},
   "outputs": [],
   "source": []
  }
 ],
 "metadata": {
  "kernelspec": {
   "display_name": "image_captioning",
   "language": "python",
   "name": "image_captioning"
  },
  "language_info": {
   "codemirror_mode": {
    "name": "ipython",
    "version": 3
   },
   "file_extension": ".py",
   "mimetype": "text/x-python",
   "name": "python",
   "nbconvert_exporter": "python",
   "pygments_lexer": "ipython3",
   "version": "3.10.0"
  }
 },
 "nbformat": 4,
 "nbformat_minor": 5
}
