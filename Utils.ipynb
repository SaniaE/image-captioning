{
 "cells": [
  {
   "cell_type": "code",
   "execution_count": 1,
   "id": "791e79eb",
   "metadata": {},
   "outputs": [],
   "source": [
    "import os \n",
    "import json \n",
    "from PIL import Image\n",
    "import matplotlib.pyplot as plt"
   ]
  },
  {
   "cell_type": "code",
   "execution_count": 2,
   "id": "76594a76",
   "metadata": {},
   "outputs": [],
   "source": [
    "DATA_PATHS = {\n",
    "    \"raw_dataset_path\": \"dataset/\", \n",
    "    \"image_set_path\": \"complete_image_set/train\", \n",
    "    \"checkpoints_dir\": \"checkpoints/\", \n",
    "    \"save_model_dir\": \"checkpoints/model/\",\n",
    "    \"inference_set_dir\": \"complete_image_set/inference/\"\n",
    "}"
   ]
  },
  {
   "cell_type": "code",
   "execution_count": 3,
   "id": "f9cc5303",
   "metadata": {},
   "outputs": [],
   "source": [
    "def create_metadata(DATA_PATHS): \n",
    "    captions = []\n",
    "    for category in os.listdir(DATA_PATHS[\"raw_dataset_path\"]): \n",
    "        for file in os.listdir(f\"{DATA_PATHS['raw_dataset_path']}/{category}/images/\"):\n",
    "            with open(f\"{DATA_PATHS['raw_dataset_path']}/{category}/prompts/{file.split('.')[0]}.txt\", \"r\") as f: \n",
    "                prompts = f.readlines()\n",
    "\n",
    "                for prompt in prompts: \n",
    "                    captions.append({\"file_name\": f\"{category}/{file}\", \"prompts\": prompt.split('\\n')[0]})\n",
    "\n",
    "    # add metadata.jsonl file to this folder\n",
    "    with open(f\"{DATA_PATHS['image_set_path']}/metadata.jsonl\", 'w') as f:\n",
    "        for item in captions:\n",
    "            f.write(json.dumps(item) + \"\\n\")"
   ]
  },
  {
   "cell_type": "code",
   "execution_count": 4,
   "id": "d8334553",
   "metadata": {},
   "outputs": [],
   "source": [
    "def plot_loss_curve(ax, train_losses, plot_title): \n",
    "    ax.plot(train_losses, label=plot_title, color='blue')\n",
    "    ax.set_xlabel('Steps')\n",
    "    ax.set_ylabel('Loss')\n",
    "    ax.set_title(plot_title)\n",
    "    ax.legend()\n",
    "    ax.grid(True)"
   ]
  },
  {
   "cell_type": "code",
   "execution_count": 5,
   "id": "459b4955",
   "metadata": {},
   "outputs": [],
   "source": [
    "def track_losses(trainer): \n",
    "    track_losses = [\"loss\", \"eval_loss\", \"eval_wer_score\"]\n",
    "    losses = {key: [record[key] for record in trainer.state.log_history if key in record] for key in track_losses}\n",
    "    \n",
    "    fig, axs = plt.subplots(1, 3, figsize=(15, 5))\n",
    "\n",
    "    for index, loss in enumerate(track_losses): \n",
    "        plot_loss_curve(axs[index], losses[loss], loss)\n",
    "\n",
    "    plt.tight_layout()\n",
    "    plt.show()"
   ]
  },
  {
   "cell_type": "code",
   "execution_count": 6,
   "id": "59c043b0",
   "metadata": {},
   "outputs": [],
   "source": [
    "def plot_image_with_captions(image_path, captions):\n",
    "    image = Image.open(image_path)\n",
    "    plt.figure(figsize=(10, 8))\n",
    "    plt.subplot(1, 2, 1)\n",
    "    plt.imshow(image)\n",
    "    plt.axis('off')\n",
    "    plt.title('Image')\n",
    "\n",
    "    plt.subplot(1, 2, 2)\n",
    "    plt.axis('off')\n",
    "    plt.title('Captions')\n",
    "    for i, caption in enumerate(captions):\n",
    "        plt.text(0, 0.9 - 0.1*i, caption, fontsize=8, wrap=True)\n",
    "\n",
    "    plt.show()"
   ]
  },
  {
   "cell_type": "code",
   "execution_count": null,
   "id": "48b602cf",
   "metadata": {},
   "outputs": [],
   "source": []
  }
 ],
 "metadata": {
  "kernelspec": {
   "display_name": "image_captioning",
   "language": "python",
   "name": "image_captioning"
  },
  "language_info": {
   "codemirror_mode": {
    "name": "ipython",
    "version": 3
   },
   "file_extension": ".py",
   "mimetype": "text/x-python",
   "name": "python",
   "nbconvert_exporter": "python",
   "pygments_lexer": "ipython3",
   "version": "3.10.0"
  }
 },
 "nbformat": 4,
 "nbformat_minor": 5
}
